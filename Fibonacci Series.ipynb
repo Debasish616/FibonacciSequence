{
 "cells": [
  {
   "cell_type": "code",
   "execution_count": 8,
   "id": "65e792b5",
   "metadata": {},
   "outputs": [
    {
     "name": "stdout",
     "output_type": "stream",
     "text": [
      "How many terms? 10\n",
      "Fibonacci sequence:\n",
      "0\n",
      "1\n",
      "1\n",
      "2\n",
      "3\n",
      "5\n",
      "8\n",
      "13\n",
      "21\n",
      "34\n"
     ]
    }
   ],
   "source": [
    "n = int(input(\"How many terms? \")) #here it will take the input of number of terms\n",
    "\n",
    "n1, n2 = 0, 1 #first two value \n",
    "count = 0 # this will be used for counting the number of terms\n",
    "\n",
    "if n <= 0: # check if the number of term is positive or not\n",
    "   print(\"Please enter a positive integer\")\n",
    "\n",
    "# this condition will generate fibonacci series\n",
    "else:\n",
    "   print(\"Fibonacci sequence:\")\n",
    "   while count < n:\n",
    "       print(n1)\n",
    "       #swapping will be done\n",
    "       nth = n1 + n2\n",
    "       n1 = n2\n",
    "       n2 = nth\n",
    "       count += 1 "
   ]
  },
  {
   "cell_type": "code",
   "execution_count": null,
   "id": "300eac39",
   "metadata": {},
   "outputs": [],
   "source": []
  }
 ],
 "metadata": {
  "kernelspec": {
   "display_name": "Python 3",
   "language": "python",
   "name": "python3"
  },
  "language_info": {
   "codemirror_mode": {
    "name": "ipython",
    "version": 3
   },
   "file_extension": ".py",
   "mimetype": "text/x-python",
   "name": "python",
   "nbconvert_exporter": "python",
   "pygments_lexer": "ipython3",
   "version": "3.8.8"
  }
 },
 "nbformat": 4,
 "nbformat_minor": 5
}
